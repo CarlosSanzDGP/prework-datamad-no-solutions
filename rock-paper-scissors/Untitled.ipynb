{
 "cells": [
  {
   "cell_type": "code",
   "execution_count": 47,
   "metadata": {},
   "outputs": [],
   "source": [
    "# Import the choice function of the random module\n",
    "# https://stackoverflow.com/questions/306400/how-to-randomly-select-an-item-from-a-list\n",
    "import random\n",
    "\n",
    "# Assign to a list the 3 possible options: 'stone', 'paper' or 'scissors'.\n",
    "game =['stone', 'paper', 'scissors']\n",
    "\n",
    "# Assign a variable to the maximum number of games: 1, 3, 5, etc ...\n",
    "max_times = 5\n",
    "\n",
    "# Assign a variable to the number of games a player must win to win.\n",
    "# Preferably the value will be based on the number of maximum games\n",
    "max_wins = 3\n",
    "\n",
    "# Define a function that randomly returns one of the 3 options.\n",
    "# This will correspond to the play of the machine. Totally random.\n",
    "def function ():\n",
    "    return random.choice(game)\n",
    "        \n",
    "        "
   ]
  },
  {
   "cell_type": "code",
   "execution_count": 48,
   "metadata": {},
   "outputs": [
    {
     "name": "stdout",
     "output_type": "stream",
     "text": [
      "scissors\n"
     ]
    }
   ],
   "source": [
    "print(function())\n"
   ]
  },
  {
   "cell_type": "code",
   "execution_count": null,
   "metadata": {},
   "outputs": [],
   "source": [
    "#### si no me dicen esto yo no lo saco en la vida.\n",
    "def choose():\n",
    "    user_choice = \"\"\n",
    "    while user_choice not in game:\n",
    "       user_choice = input(\"Choose rock, paper or scissors: \")\n",
    "    return user_choice\n"
   ]
  },
  {
   "cell_type": "code",
   "execution_count": 9,
   "metadata": {},
   "outputs": [],
   "source": [
    "import random\n",
    "\n",
    "# Assign to a list the 3 possible options: 'stone', 'paper' or 'scissors'.\n",
    "game =['stone', 'paper', 'scissors']\n",
    "\n",
    "# Assign a variable to the maximum number of games: 1, 3, 5, etc ...\n",
    "max_times = 5\n",
    "\n",
    "# Assign a variable to the number of games a player must win to win.\n",
    "# Preferably the value will be based on the number of maximum games\n",
    "max_wins = 3\n",
    "\n",
    "# Define a function that randomly returns one of the 3 options.\n",
    "# This will correspond to the play of the machine. Totally random.\n",
    "def function ():\n",
    "    return random.choice(game)\n",
    "        \n",
    "# Define a function that asks your choice: 'stone', 'paper' or 'scissors'\n",
    "# you should only allow one of the 3 options. This is defensive programming.\n",
    "# If it is not stone, paper or scissors keep asking until it is.\n",
    "\n",
    "#### YO NO SACO ESTO SOLO NI DE CONA\n",
    "def choose():\n",
    "    user_choice = \"\"\n",
    "    while user_choice not in game:\n",
    "        user_choice = input(\"Choose stone, paper or scissors: \")\n",
    "    return user_choice\n"
   ]
  },
  {
   "cell_type": "code",
   "execution_count": null,
   "metadata": {},
   "outputs": [],
   "source": [
    " # Define a function that resolves a combat.\n",
    "# Returns 0 if there is a tie, 1 if the machine wins, 2 if the human player wins\n",
    "def resolve():\n",
    "    result = 0\n",
    "    if function()==choose():\n",
    "        result+=0\n",
    "    elif function() == \"stone\" and choose()== \"scissors\":\n",
    "        result+=1\n",
    "    elif function() == \"paper\" and choose()== \"scissors\":\n",
    "        result+=2\n",
    "    elif function() == \"scissors\" and choose()== \"paper\":\n",
    "        result+=1\n",
    "    elif function() == \"stone\" and choose()== \"paper\":\n",
    "        result+=2\n",
    "    elif function() == \"paper\" and choose()== \"stone\":\n",
    "         result+=1\n",
    "    elif function() == \"scissors\" and choose()== \"stone\":\n",
    "        result+=2\n",
    "    return print (result)\n"
   ]
  },
  {
   "cell_type": "code",
   "execution_count": null,
   "metadata": {},
   "outputs": [],
   "source": [
    "resolve()"
   ]
  },
  {
   "cell_type": "code",
   "execution_count": null,
   "metadata": {},
   "outputs": [],
   "source": []
  }
 ],
 "metadata": {
  "kernelspec": {
   "display_name": "Python 3",
   "language": "python",
   "name": "python3"
  },
  "language_info": {
   "codemirror_mode": {
    "name": "ipython",
    "version": 3
   },
   "file_extension": ".py",
   "mimetype": "text/x-python",
   "name": "python",
   "nbconvert_exporter": "python",
   "pygments_lexer": "ipython3",
   "version": "3.6.9"
  }
 },
 "nbformat": 4,
 "nbformat_minor": 4
}
